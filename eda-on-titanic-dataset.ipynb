{
 "cells": [
  {
   "cell_type": "code",
   "execution_count": 1,
   "id": "c8a08870",
   "metadata": {
    "_cell_guid": "b1076dfc-b9ad-4769-8c92-a6c4dae69d19",
    "_uuid": "8f2839f25d086af736a60e9eeb907d3b93b6e0e5",
    "execution": {
     "iopub.execute_input": "2023-02-24T05:44:41.601173Z",
     "iopub.status.busy": "2023-02-24T05:44:41.600699Z",
     "iopub.status.idle": "2023-02-24T05:44:42.691899Z",
     "shell.execute_reply": "2023-02-24T05:44:42.690421Z"
    },
    "papermill": {
     "duration": 1.108638,
     "end_time": "2023-02-24T05:44:42.694859",
     "exception": false,
     "start_time": "2023-02-24T05:44:41.586221",
     "status": "completed"
    },
    "tags": []
   },
   "outputs": [
    {
     "name": "stdout",
     "output_type": "stream",
     "text": [
      "/kaggle/input/titanic/train.csv\n",
      "/kaggle/input/titanic/test.csv\n",
      "/kaggle/input/titanic/gender_submission.csv\n"
     ]
    }
   ],
   "source": [
    "# This Python 3 environment comes with many helpful analytics libraries installed\n",
    "# It is defined by the kaggle/python Docker image: https://github.com/kaggle/docker-python\n",
    "# For example, here's several helpful packages to load\n",
    "\n",
    "import numpy as np # linear algebra\n",
    "import pandas as pd # data processing, CSV file I/O (e.g. pd.read_csv)\n",
    "import matplotlib.pyplot as plt\n",
    "import seaborn as sns\n",
    "# Input data files are available in the read-only \"../input/\" directory\n",
    "# For example, running this (by clicking run or pressing Shift+Enter) will list all files under the input directory\n",
    "\n",
    "import os\n",
    "for dirname, _, filenames in os.walk('/kaggle/input'):\n",
    "    for filename in filenames:\n",
    "        print(os.path.join(dirname, filename))\n",
    "\n",
    "# You can write up to 20GB to the current directory (/kaggle/working/) that gets preserved as output when you create a version using \"Save & Run All\" \n",
    "# You can also write temporary files to /kaggle/temp/, but they won't be saved outside of the current session"
   ]
  },
  {
   "cell_type": "code",
   "execution_count": 2,
   "id": "1419303e",
   "metadata": {
    "execution": {
     "iopub.execute_input": "2023-02-24T05:44:42.719834Z",
     "iopub.status.busy": "2023-02-24T05:44:42.719389Z",
     "iopub.status.idle": "2023-02-24T05:44:42.744055Z",
     "shell.execute_reply": "2023-02-24T05:44:42.743005Z"
    },
    "papermill": {
     "duration": 0.039944,
     "end_time": "2023-02-24T05:44:42.746710",
     "exception": false,
     "start_time": "2023-02-24T05:44:42.706766",
     "status": "completed"
    },
    "tags": []
   },
   "outputs": [],
   "source": [
    "traindf = pd.read_csv('/kaggle/input/titanic/train.csv')"
   ]
  },
  {
   "cell_type": "code",
   "execution_count": 3,
   "id": "251c10a6",
   "metadata": {
    "execution": {
     "iopub.execute_input": "2023-02-24T05:44:42.771196Z",
     "iopub.status.busy": "2023-02-24T05:44:42.770747Z",
     "iopub.status.idle": "2023-02-24T05:44:42.784283Z",
     "shell.execute_reply": "2023-02-24T05:44:42.782911Z"
    },
    "papermill": {
     "duration": 0.029135,
     "end_time": "2023-02-24T05:44:42.787316",
     "exception": false,
     "start_time": "2023-02-24T05:44:42.758181",
     "status": "completed"
    },
    "tags": []
   },
   "outputs": [],
   "source": [
    "testdf = pd.read_csv('/kaggle/input/titanic/test.csv')"
   ]
  },
  {
   "cell_type": "code",
   "execution_count": 4,
   "id": "3bccdd67",
   "metadata": {
    "execution": {
     "iopub.execute_input": "2023-02-24T05:44:42.811601Z",
     "iopub.status.busy": "2023-02-24T05:44:42.811184Z",
     "iopub.status.idle": "2023-02-24T05:44:42.839443Z",
     "shell.execute_reply": "2023-02-24T05:44:42.838174Z"
    },
    "papermill": {
     "duration": 0.043205,
     "end_time": "2023-02-24T05:44:42.841821",
     "exception": false,
     "start_time": "2023-02-24T05:44:42.798616",
     "status": "completed"
    },
    "tags": []
   },
   "outputs": [
    {
     "data": {
      "text/html": [
       "<div>\n",
       "<style scoped>\n",
       "    .dataframe tbody tr th:only-of-type {\n",
       "        vertical-align: middle;\n",
       "    }\n",
       "\n",
       "    .dataframe tbody tr th {\n",
       "        vertical-align: top;\n",
       "    }\n",
       "\n",
       "    .dataframe thead th {\n",
       "        text-align: right;\n",
       "    }\n",
       "</style>\n",
       "<table border=\"1\" class=\"dataframe\">\n",
       "  <thead>\n",
       "    <tr style=\"text-align: right;\">\n",
       "      <th></th>\n",
       "      <th>PassengerId</th>\n",
       "      <th>Survived</th>\n",
       "      <th>Pclass</th>\n",
       "      <th>Name</th>\n",
       "      <th>Sex</th>\n",
       "      <th>Age</th>\n",
       "      <th>SibSp</th>\n",
       "      <th>Parch</th>\n",
       "      <th>Ticket</th>\n",
       "      <th>Fare</th>\n",
       "      <th>Cabin</th>\n",
       "      <th>Embarked</th>\n",
       "    </tr>\n",
       "  </thead>\n",
       "  <tbody>\n",
       "    <tr>\n",
       "      <th>0</th>\n",
       "      <td>1</td>\n",
       "      <td>0</td>\n",
       "      <td>3</td>\n",
       "      <td>Braund, Mr. Owen Harris</td>\n",
       "      <td>male</td>\n",
       "      <td>22.0</td>\n",
       "      <td>1</td>\n",
       "      <td>0</td>\n",
       "      <td>A/5 21171</td>\n",
       "      <td>7.2500</td>\n",
       "      <td>NaN</td>\n",
       "      <td>S</td>\n",
       "    </tr>\n",
       "    <tr>\n",
       "      <th>1</th>\n",
       "      <td>2</td>\n",
       "      <td>1</td>\n",
       "      <td>1</td>\n",
       "      <td>Cumings, Mrs. John Bradley (Florence Briggs Th...</td>\n",
       "      <td>female</td>\n",
       "      <td>38.0</td>\n",
       "      <td>1</td>\n",
       "      <td>0</td>\n",
       "      <td>PC 17599</td>\n",
       "      <td>71.2833</td>\n",
       "      <td>C85</td>\n",
       "      <td>C</td>\n",
       "    </tr>\n",
       "    <tr>\n",
       "      <th>2</th>\n",
       "      <td>3</td>\n",
       "      <td>1</td>\n",
       "      <td>3</td>\n",
       "      <td>Heikkinen, Miss. Laina</td>\n",
       "      <td>female</td>\n",
       "      <td>26.0</td>\n",
       "      <td>0</td>\n",
       "      <td>0</td>\n",
       "      <td>STON/O2. 3101282</td>\n",
       "      <td>7.9250</td>\n",
       "      <td>NaN</td>\n",
       "      <td>S</td>\n",
       "    </tr>\n",
       "    <tr>\n",
       "      <th>3</th>\n",
       "      <td>4</td>\n",
       "      <td>1</td>\n",
       "      <td>1</td>\n",
       "      <td>Futrelle, Mrs. Jacques Heath (Lily May Peel)</td>\n",
       "      <td>female</td>\n",
       "      <td>35.0</td>\n",
       "      <td>1</td>\n",
       "      <td>0</td>\n",
       "      <td>113803</td>\n",
       "      <td>53.1000</td>\n",
       "      <td>C123</td>\n",
       "      <td>S</td>\n",
       "    </tr>\n",
       "    <tr>\n",
       "      <th>4</th>\n",
       "      <td>5</td>\n",
       "      <td>0</td>\n",
       "      <td>3</td>\n",
       "      <td>Allen, Mr. William Henry</td>\n",
       "      <td>male</td>\n",
       "      <td>35.0</td>\n",
       "      <td>0</td>\n",
       "      <td>0</td>\n",
       "      <td>373450</td>\n",
       "      <td>8.0500</td>\n",
       "      <td>NaN</td>\n",
       "      <td>S</td>\n",
       "    </tr>\n",
       "  </tbody>\n",
       "</table>\n",
       "</div>"
      ],
      "text/plain": [
       "   PassengerId  Survived  Pclass  \\\n",
       "0            1         0       3   \n",
       "1            2         1       1   \n",
       "2            3         1       3   \n",
       "3            4         1       1   \n",
       "4            5         0       3   \n",
       "\n",
       "                                                Name     Sex   Age  SibSp  \\\n",
       "0                            Braund, Mr. Owen Harris    male  22.0      1   \n",
       "1  Cumings, Mrs. John Bradley (Florence Briggs Th...  female  38.0      1   \n",
       "2                             Heikkinen, Miss. Laina  female  26.0      0   \n",
       "3       Futrelle, Mrs. Jacques Heath (Lily May Peel)  female  35.0      1   \n",
       "4                           Allen, Mr. William Henry    male  35.0      0   \n",
       "\n",
       "   Parch            Ticket     Fare Cabin Embarked  \n",
       "0      0         A/5 21171   7.2500   NaN        S  \n",
       "1      0          PC 17599  71.2833   C85        C  \n",
       "2      0  STON/O2. 3101282   7.9250   NaN        S  \n",
       "3      0            113803  53.1000  C123        S  \n",
       "4      0            373450   8.0500   NaN        S  "
      ]
     },
     "execution_count": 4,
     "metadata": {},
     "output_type": "execute_result"
    }
   ],
   "source": [
    "traindf.head()"
   ]
  },
  {
   "cell_type": "code",
   "execution_count": 5,
   "id": "000c9685",
   "metadata": {
    "execution": {
     "iopub.execute_input": "2023-02-24T05:44:42.866034Z",
     "iopub.status.busy": "2023-02-24T05:44:42.865600Z",
     "iopub.status.idle": "2023-02-24T05:44:42.882551Z",
     "shell.execute_reply": "2023-02-24T05:44:42.881218Z"
    },
    "papermill": {
     "duration": 0.031933,
     "end_time": "2023-02-24T05:44:42.885103",
     "exception": false,
     "start_time": "2023-02-24T05:44:42.853170",
     "status": "completed"
    },
    "tags": []
   },
   "outputs": [
    {
     "data": {
      "text/html": [
       "<div>\n",
       "<style scoped>\n",
       "    .dataframe tbody tr th:only-of-type {\n",
       "        vertical-align: middle;\n",
       "    }\n",
       "\n",
       "    .dataframe tbody tr th {\n",
       "        vertical-align: top;\n",
       "    }\n",
       "\n",
       "    .dataframe thead th {\n",
       "        text-align: right;\n",
       "    }\n",
       "</style>\n",
       "<table border=\"1\" class=\"dataframe\">\n",
       "  <thead>\n",
       "    <tr style=\"text-align: right;\">\n",
       "      <th></th>\n",
       "      <th>PassengerId</th>\n",
       "      <th>Pclass</th>\n",
       "      <th>Name</th>\n",
       "      <th>Sex</th>\n",
       "      <th>Age</th>\n",
       "      <th>SibSp</th>\n",
       "      <th>Parch</th>\n",
       "      <th>Ticket</th>\n",
       "      <th>Fare</th>\n",
       "      <th>Cabin</th>\n",
       "      <th>Embarked</th>\n",
       "    </tr>\n",
       "  </thead>\n",
       "  <tbody>\n",
       "    <tr>\n",
       "      <th>0</th>\n",
       "      <td>892</td>\n",
       "      <td>3</td>\n",
       "      <td>Kelly, Mr. James</td>\n",
       "      <td>male</td>\n",
       "      <td>34.5</td>\n",
       "      <td>0</td>\n",
       "      <td>0</td>\n",
       "      <td>330911</td>\n",
       "      <td>7.8292</td>\n",
       "      <td>NaN</td>\n",
       "      <td>Q</td>\n",
       "    </tr>\n",
       "    <tr>\n",
       "      <th>1</th>\n",
       "      <td>893</td>\n",
       "      <td>3</td>\n",
       "      <td>Wilkes, Mrs. James (Ellen Needs)</td>\n",
       "      <td>female</td>\n",
       "      <td>47.0</td>\n",
       "      <td>1</td>\n",
       "      <td>0</td>\n",
       "      <td>363272</td>\n",
       "      <td>7.0000</td>\n",
       "      <td>NaN</td>\n",
       "      <td>S</td>\n",
       "    </tr>\n",
       "    <tr>\n",
       "      <th>2</th>\n",
       "      <td>894</td>\n",
       "      <td>2</td>\n",
       "      <td>Myles, Mr. Thomas Francis</td>\n",
       "      <td>male</td>\n",
       "      <td>62.0</td>\n",
       "      <td>0</td>\n",
       "      <td>0</td>\n",
       "      <td>240276</td>\n",
       "      <td>9.6875</td>\n",
       "      <td>NaN</td>\n",
       "      <td>Q</td>\n",
       "    </tr>\n",
       "    <tr>\n",
       "      <th>3</th>\n",
       "      <td>895</td>\n",
       "      <td>3</td>\n",
       "      <td>Wirz, Mr. Albert</td>\n",
       "      <td>male</td>\n",
       "      <td>27.0</td>\n",
       "      <td>0</td>\n",
       "      <td>0</td>\n",
       "      <td>315154</td>\n",
       "      <td>8.6625</td>\n",
       "      <td>NaN</td>\n",
       "      <td>S</td>\n",
       "    </tr>\n",
       "    <tr>\n",
       "      <th>4</th>\n",
       "      <td>896</td>\n",
       "      <td>3</td>\n",
       "      <td>Hirvonen, Mrs. Alexander (Helga E Lindqvist)</td>\n",
       "      <td>female</td>\n",
       "      <td>22.0</td>\n",
       "      <td>1</td>\n",
       "      <td>1</td>\n",
       "      <td>3101298</td>\n",
       "      <td>12.2875</td>\n",
       "      <td>NaN</td>\n",
       "      <td>S</td>\n",
       "    </tr>\n",
       "  </tbody>\n",
       "</table>\n",
       "</div>"
      ],
      "text/plain": [
       "   PassengerId  Pclass                                          Name     Sex  \\\n",
       "0          892       3                              Kelly, Mr. James    male   \n",
       "1          893       3              Wilkes, Mrs. James (Ellen Needs)  female   \n",
       "2          894       2                     Myles, Mr. Thomas Francis    male   \n",
       "3          895       3                              Wirz, Mr. Albert    male   \n",
       "4          896       3  Hirvonen, Mrs. Alexander (Helga E Lindqvist)  female   \n",
       "\n",
       "    Age  SibSp  Parch   Ticket     Fare Cabin Embarked  \n",
       "0  34.5      0      0   330911   7.8292   NaN        Q  \n",
       "1  47.0      1      0   363272   7.0000   NaN        S  \n",
       "2  62.0      0      0   240276   9.6875   NaN        Q  \n",
       "3  27.0      0      0   315154   8.6625   NaN        S  \n",
       "4  22.0      1      1  3101298  12.2875   NaN        S  "
      ]
     },
     "execution_count": 5,
     "metadata": {},
     "output_type": "execute_result"
    }
   ],
   "source": [
    "testdf.head()"
   ]
  },
  {
   "cell_type": "code",
   "execution_count": 6,
   "id": "141a992c",
   "metadata": {
    "execution": {
     "iopub.execute_input": "2023-02-24T05:44:42.910768Z",
     "iopub.status.busy": "2023-02-24T05:44:42.910213Z",
     "iopub.status.idle": "2023-02-24T05:44:42.957443Z",
     "shell.execute_reply": "2023-02-24T05:44:42.956234Z"
    },
    "papermill": {
     "duration": 0.062754,
     "end_time": "2023-02-24T05:44:42.960085",
     "exception": false,
     "start_time": "2023-02-24T05:44:42.897331",
     "status": "completed"
    },
    "tags": []
   },
   "outputs": [
    {
     "data": {
      "text/html": [
       "<div>\n",
       "<style scoped>\n",
       "    .dataframe tbody tr th:only-of-type {\n",
       "        vertical-align: middle;\n",
       "    }\n",
       "\n",
       "    .dataframe tbody tr th {\n",
       "        vertical-align: top;\n",
       "    }\n",
       "\n",
       "    .dataframe thead th {\n",
       "        text-align: right;\n",
       "    }\n",
       "</style>\n",
       "<table border=\"1\" class=\"dataframe\">\n",
       "  <thead>\n",
       "    <tr style=\"text-align: right;\">\n",
       "      <th></th>\n",
       "      <th>PassengerId</th>\n",
       "      <th>Survived</th>\n",
       "      <th>Pclass</th>\n",
       "      <th>Age</th>\n",
       "      <th>SibSp</th>\n",
       "      <th>Parch</th>\n",
       "      <th>Fare</th>\n",
       "    </tr>\n",
       "  </thead>\n",
       "  <tbody>\n",
       "    <tr>\n",
       "      <th>count</th>\n",
       "      <td>891.000000</td>\n",
       "      <td>891.000000</td>\n",
       "      <td>891.000000</td>\n",
       "      <td>714.000000</td>\n",
       "      <td>891.000000</td>\n",
       "      <td>891.000000</td>\n",
       "      <td>891.000000</td>\n",
       "    </tr>\n",
       "    <tr>\n",
       "      <th>mean</th>\n",
       "      <td>446.000000</td>\n",
       "      <td>0.383838</td>\n",
       "      <td>2.308642</td>\n",
       "      <td>29.699118</td>\n",
       "      <td>0.523008</td>\n",
       "      <td>0.381594</td>\n",
       "      <td>32.204208</td>\n",
       "    </tr>\n",
       "    <tr>\n",
       "      <th>std</th>\n",
       "      <td>257.353842</td>\n",
       "      <td>0.486592</td>\n",
       "      <td>0.836071</td>\n",
       "      <td>14.526497</td>\n",
       "      <td>1.102743</td>\n",
       "      <td>0.806057</td>\n",
       "      <td>49.693429</td>\n",
       "    </tr>\n",
       "    <tr>\n",
       "      <th>min</th>\n",
       "      <td>1.000000</td>\n",
       "      <td>0.000000</td>\n",
       "      <td>1.000000</td>\n",
       "      <td>0.420000</td>\n",
       "      <td>0.000000</td>\n",
       "      <td>0.000000</td>\n",
       "      <td>0.000000</td>\n",
       "    </tr>\n",
       "    <tr>\n",
       "      <th>25%</th>\n",
       "      <td>223.500000</td>\n",
       "      <td>0.000000</td>\n",
       "      <td>2.000000</td>\n",
       "      <td>20.125000</td>\n",
       "      <td>0.000000</td>\n",
       "      <td>0.000000</td>\n",
       "      <td>7.910400</td>\n",
       "    </tr>\n",
       "    <tr>\n",
       "      <th>50%</th>\n",
       "      <td>446.000000</td>\n",
       "      <td>0.000000</td>\n",
       "      <td>3.000000</td>\n",
       "      <td>28.000000</td>\n",
       "      <td>0.000000</td>\n",
       "      <td>0.000000</td>\n",
       "      <td>14.454200</td>\n",
       "    </tr>\n",
       "    <tr>\n",
       "      <th>75%</th>\n",
       "      <td>668.500000</td>\n",
       "      <td>1.000000</td>\n",
       "      <td>3.000000</td>\n",
       "      <td>38.000000</td>\n",
       "      <td>1.000000</td>\n",
       "      <td>0.000000</td>\n",
       "      <td>31.000000</td>\n",
       "    </tr>\n",
       "    <tr>\n",
       "      <th>max</th>\n",
       "      <td>891.000000</td>\n",
       "      <td>1.000000</td>\n",
       "      <td>3.000000</td>\n",
       "      <td>80.000000</td>\n",
       "      <td>8.000000</td>\n",
       "      <td>6.000000</td>\n",
       "      <td>512.329200</td>\n",
       "    </tr>\n",
       "  </tbody>\n",
       "</table>\n",
       "</div>"
      ],
      "text/plain": [
       "       PassengerId    Survived      Pclass         Age       SibSp  \\\n",
       "count   891.000000  891.000000  891.000000  714.000000  891.000000   \n",
       "mean    446.000000    0.383838    2.308642   29.699118    0.523008   \n",
       "std     257.353842    0.486592    0.836071   14.526497    1.102743   \n",
       "min       1.000000    0.000000    1.000000    0.420000    0.000000   \n",
       "25%     223.500000    0.000000    2.000000   20.125000    0.000000   \n",
       "50%     446.000000    0.000000    3.000000   28.000000    0.000000   \n",
       "75%     668.500000    1.000000    3.000000   38.000000    1.000000   \n",
       "max     891.000000    1.000000    3.000000   80.000000    8.000000   \n",
       "\n",
       "            Parch        Fare  \n",
       "count  891.000000  891.000000  \n",
       "mean     0.381594   32.204208  \n",
       "std      0.806057   49.693429  \n",
       "min      0.000000    0.000000  \n",
       "25%      0.000000    7.910400  \n",
       "50%      0.000000   14.454200  \n",
       "75%      0.000000   31.000000  \n",
       "max      6.000000  512.329200  "
      ]
     },
     "execution_count": 6,
     "metadata": {},
     "output_type": "execute_result"
    }
   ],
   "source": [
    "traindf.describe()"
   ]
  },
  {
   "cell_type": "code",
   "execution_count": 7,
   "id": "d54d5326",
   "metadata": {
    "execution": {
     "iopub.execute_input": "2023-02-24T05:44:42.986320Z",
     "iopub.status.busy": "2023-02-24T05:44:42.985465Z",
     "iopub.status.idle": "2023-02-24T05:44:43.016125Z",
     "shell.execute_reply": "2023-02-24T05:44:43.014967Z"
    },
    "papermill": {
     "duration": 0.046461,
     "end_time": "2023-02-24T05:44:43.018684",
     "exception": false,
     "start_time": "2023-02-24T05:44:42.972223",
     "status": "completed"
    },
    "tags": []
   },
   "outputs": [
    {
     "data": {
      "text/html": [
       "<div>\n",
       "<style scoped>\n",
       "    .dataframe tbody tr th:only-of-type {\n",
       "        vertical-align: middle;\n",
       "    }\n",
       "\n",
       "    .dataframe tbody tr th {\n",
       "        vertical-align: top;\n",
       "    }\n",
       "\n",
       "    .dataframe thead th {\n",
       "        text-align: right;\n",
       "    }\n",
       "</style>\n",
       "<table border=\"1\" class=\"dataframe\">\n",
       "  <thead>\n",
       "    <tr style=\"text-align: right;\">\n",
       "      <th></th>\n",
       "      <th>PassengerId</th>\n",
       "      <th>Pclass</th>\n",
       "      <th>Age</th>\n",
       "      <th>SibSp</th>\n",
       "      <th>Parch</th>\n",
       "      <th>Fare</th>\n",
       "    </tr>\n",
       "  </thead>\n",
       "  <tbody>\n",
       "    <tr>\n",
       "      <th>count</th>\n",
       "      <td>418.000000</td>\n",
       "      <td>418.000000</td>\n",
       "      <td>332.000000</td>\n",
       "      <td>418.000000</td>\n",
       "      <td>418.000000</td>\n",
       "      <td>417.000000</td>\n",
       "    </tr>\n",
       "    <tr>\n",
       "      <th>mean</th>\n",
       "      <td>1100.500000</td>\n",
       "      <td>2.265550</td>\n",
       "      <td>30.272590</td>\n",
       "      <td>0.447368</td>\n",
       "      <td>0.392344</td>\n",
       "      <td>35.627188</td>\n",
       "    </tr>\n",
       "    <tr>\n",
       "      <th>std</th>\n",
       "      <td>120.810458</td>\n",
       "      <td>0.841838</td>\n",
       "      <td>14.181209</td>\n",
       "      <td>0.896760</td>\n",
       "      <td>0.981429</td>\n",
       "      <td>55.907576</td>\n",
       "    </tr>\n",
       "    <tr>\n",
       "      <th>min</th>\n",
       "      <td>892.000000</td>\n",
       "      <td>1.000000</td>\n",
       "      <td>0.170000</td>\n",
       "      <td>0.000000</td>\n",
       "      <td>0.000000</td>\n",
       "      <td>0.000000</td>\n",
       "    </tr>\n",
       "    <tr>\n",
       "      <th>25%</th>\n",
       "      <td>996.250000</td>\n",
       "      <td>1.000000</td>\n",
       "      <td>21.000000</td>\n",
       "      <td>0.000000</td>\n",
       "      <td>0.000000</td>\n",
       "      <td>7.895800</td>\n",
       "    </tr>\n",
       "    <tr>\n",
       "      <th>50%</th>\n",
       "      <td>1100.500000</td>\n",
       "      <td>3.000000</td>\n",
       "      <td>27.000000</td>\n",
       "      <td>0.000000</td>\n",
       "      <td>0.000000</td>\n",
       "      <td>14.454200</td>\n",
       "    </tr>\n",
       "    <tr>\n",
       "      <th>75%</th>\n",
       "      <td>1204.750000</td>\n",
       "      <td>3.000000</td>\n",
       "      <td>39.000000</td>\n",
       "      <td>1.000000</td>\n",
       "      <td>0.000000</td>\n",
       "      <td>31.500000</td>\n",
       "    </tr>\n",
       "    <tr>\n",
       "      <th>max</th>\n",
       "      <td>1309.000000</td>\n",
       "      <td>3.000000</td>\n",
       "      <td>76.000000</td>\n",
       "      <td>8.000000</td>\n",
       "      <td>9.000000</td>\n",
       "      <td>512.329200</td>\n",
       "    </tr>\n",
       "  </tbody>\n",
       "</table>\n",
       "</div>"
      ],
      "text/plain": [
       "       PassengerId      Pclass         Age       SibSp       Parch        Fare\n",
       "count   418.000000  418.000000  332.000000  418.000000  418.000000  417.000000\n",
       "mean   1100.500000    2.265550   30.272590    0.447368    0.392344   35.627188\n",
       "std     120.810458    0.841838   14.181209    0.896760    0.981429   55.907576\n",
       "min     892.000000    1.000000    0.170000    0.000000    0.000000    0.000000\n",
       "25%     996.250000    1.000000   21.000000    0.000000    0.000000    7.895800\n",
       "50%    1100.500000    3.000000   27.000000    0.000000    0.000000   14.454200\n",
       "75%    1204.750000    3.000000   39.000000    1.000000    0.000000   31.500000\n",
       "max    1309.000000    3.000000   76.000000    8.000000    9.000000  512.329200"
      ]
     },
     "execution_count": 7,
     "metadata": {},
     "output_type": "execute_result"
    }
   ],
   "source": [
    "testdf.describe()"
   ]
  },
  {
   "cell_type": "markdown",
   "id": "6a1dc098",
   "metadata": {
    "papermill": {
     "duration": 0.012123,
     "end_time": "2023-02-24T05:44:43.043855",
     "exception": false,
     "start_time": "2023-02-24T05:44:43.031732",
     "status": "completed"
    },
    "tags": []
   },
   "source": [
    "\n",
    "\n",
    "**Univariate Analysis**\n",
    "* Numerical Variables:  Age, Fare, PassengerId\n",
    "* Categorical Variables: Survived, Pclass, Sex, SibSp, Parch, Embarked\n",
    "* Mixed:  Name, Ticket, Cabin"
   ]
  },
  {
   "cell_type": "code",
   "execution_count": 8,
   "id": "fb2e79db",
   "metadata": {
    "execution": {
     "iopub.execute_input": "2023-02-24T05:44:43.071308Z",
     "iopub.status.busy": "2023-02-24T05:44:43.070915Z",
     "iopub.status.idle": "2023-02-24T05:44:43.078731Z",
     "shell.execute_reply": "2023-02-24T05:44:43.077246Z"
    },
    "papermill": {
     "duration": 0.024185,
     "end_time": "2023-02-24T05:44:43.081139",
     "exception": false,
     "start_time": "2023-02-24T05:44:43.056954",
     "status": "completed"
    },
    "tags": []
   },
   "outputs": [
    {
     "data": {
      "text/plain": [
       "(891, 12)"
      ]
     },
     "execution_count": 8,
     "metadata": {},
     "output_type": "execute_result"
    }
   ],
   "source": [
    "traindf.shape"
   ]
  },
  {
   "cell_type": "markdown",
   "id": "b19ad192",
   "metadata": {
    "papermill": {
     "duration": 0.011959,
     "end_time": "2023-02-24T05:44:43.105535",
     "exception": false,
     "start_time": "2023-02-24T05:44:43.093576",
     "status": "completed"
    },
    "tags": []
   },
   "source": [
    "**Age**\n",
    "\n",
    "**Conclusions**\n",
    "* Age is almost Normally Distributed\n",
    "* 20 % of the values are missing\n",
    "* Most of the people has Age between 18 to 38\n",
    "\n"
   ]
  },
  {
   "cell_type": "code",
   "execution_count": 9,
   "id": "73f51113",
   "metadata": {
    "execution": {
     "iopub.execute_input": "2023-02-24T05:44:43.132391Z",
     "iopub.status.busy": "2023-02-24T05:44:43.132002Z",
     "iopub.status.idle": "2023-02-24T05:44:43.420625Z",
     "shell.execute_reply": "2023-02-24T05:44:43.419407Z"
    },
    "papermill": {
     "duration": 0.304975,
     "end_time": "2023-02-24T05:44:43.423012",
     "exception": false,
     "start_time": "2023-02-24T05:44:43.118037",
     "status": "completed"
    },
    "tags": []
   },
   "outputs": [
    {
     "data": {
      "text/plain": [
       "(array([ 54.,  46., 177., 169., 118.,  70.,  45.,  24.,   9.,   2.]),\n",
       " array([ 0.42 ,  8.378, 16.336, 24.294, 32.252, 40.21 , 48.168, 56.126,\n",
       "        64.084, 72.042, 80.   ]),\n",
       " <BarContainer object of 10 artists>)"
      ]
     },
     "execution_count": 9,
     "metadata": {},
     "output_type": "execute_result"
    },
    {
     "data": {
      "image/png": "[encoded data removed]",
      "text/plain": [
       "<Figure size 640x480 with 1 Axes>"
      ]
     },
     "metadata": {},
     "output_type": "display_data"
    }
   ],
   "source": [
    "plt.hist(traindf['Age'])"
   ]
  },
  {
   "cell_type": "code",
   "execution_count": 10,
   "id": "c850dad4",
   "metadata": {
    "execution": {
     "iopub.execute_input": "2023-02-24T05:44:43.450671Z",
     "iopub.status.busy": "2023-02-24T05:44:43.449705Z",
     "iopub.status.idle": "2023-02-24T05:44:43.778905Z",
     "shell.execute_reply": "2023-02-24T05:44:43.777466Z"
    },
    "papermill": {
     "duration": 0.345943,
     "end_time": "2023-02-24T05:44:43.781594",
     "exception": false,
     "start_time": "2023-02-24T05:44:43.435651",
     "status": "completed"
    },
    "tags": []
   },
   "outputs": [
    {
     "name": "stderr",
     "output_type": "stream",
     "text": [
      "/opt/conda/lib/python3.7/site-packages/ipykernel_launcher.py:1: UserWarning: \n",
      "\n",
      "`distplot` is a deprecated function and will be removed in seaborn v0.14.0.\n",
      "\n",
      "Please adapt your code to use either `displot` (a figure-level function with\n",
      "similar flexibility) or `histplot` (an axes-level function for histograms).\n",
      "\n",
      "For a guide to updating your code to use the new functions, please see\n",
      "https://gist.github.com/mwaskom/de44147ed2974457ad6372750bbe5751\n",
      "\n",
      "  \"\"\"Entry point for launching an IPython kernel.\n"
     ]
    },
    {
     "data": {
      "text/plain": [
       "<AxesSubplot:xlabel='Age', ylabel='Density'>"
      ]
     },
     "execution_count": 10,
     "metadata": {},
     "output_type": "execute_result"
    },
    {
     "data": {
      "image/png": "[encoded data removed]",
      "text/plain": [
       "<Figure size 640x480 with 1 Axes>"
      ]
     },
     "metadata": {},
     "output_type": "display_data"
    }
   ],
   "source": [
    "sns.distplot(traindf['Age'])"
   ]
  },
  {
   "cell_type": "code",
   "execution_count": 11,
   "id": "3d0798ff",
   "metadata": {
    "execution": {
     "iopub.execute_input": "2023-02-24T05:44:43.811486Z",
     "iopub.status.busy": "2023-02-24T05:44:43.811071Z",
     "iopub.status.idle": "2023-02-24T05:44:44.021683Z",
     "shell.execute_reply": "2023-02-24T05:44:44.020574Z"
    },
    "papermill": {
     "duration": 0.228968,
     "end_time": "2023-02-24T05:44:44.024465",
     "exception": false,
     "start_time": "2023-02-24T05:44:43.795497",
     "status": "completed"
    },
    "tags": []
   },
   "outputs": [
    {
     "data": {
      "text/plain": [
       "<AxesSubplot:>"
      ]
     },
     "execution_count": 11,
     "metadata": {},
     "output_type": "execute_result"
    },
    {
     "data": {
      "image/png": "[encoded data removed]",
      "text/plain": [
       "<Figure size 640x480 with 1 Axes>"
      ]
     },
     "metadata": {},
     "output_type": "display_data"
    }
   ],
   "source": [
    "sns.boxplot(traindf['Age'])"
   ]
  },
  {
   "cell_type": "code",
   "execution_count": 12,
   "id": "bae4ffdb",
   "metadata": {
    "execution": {
     "iopub.execute_input": "2023-02-24T05:44:44.054631Z",
     "iopub.status.busy": "2023-02-24T05:44:44.054231Z",
     "iopub.status.idle": "2023-02-24T05:44:44.287946Z",
     "shell.execute_reply": "2023-02-24T05:44:44.286952Z"
    },
    "papermill": {
     "duration": 0.251885,
     "end_time": "2023-02-24T05:44:44.290366",
     "exception": false,
     "start_time": "2023-02-24T05:44:44.038481",
     "status": "completed"
    },
    "tags": []
   },
   "outputs": [
    {
     "data": {
      "text/plain": [
       "<AxesSubplot:>"
      ]
     },
     "execution_count": 12,
     "metadata": {},
     "output_type": "execute_result"
    },
    {
     "data": {
      "image/png": "[encoded data removed]",
      "text/plain": [
       "<Figure size 640x480 with 1 Axes>"
      ]
     },
     "metadata": {},
     "output_type": "display_data"
    }
   ],
   "source": [
    "traindf['Age'].plot(kind='box')"
   ]
  },
  {
   "cell_type": "code",
   "execution_count": 13,
   "id": "8520712d",
   "metadata": {
    "execution": {
     "iopub.execute_input": "2023-02-24T05:44:44.320493Z",
     "iopub.status.busy": "2023-02-24T05:44:44.320081Z",
     "iopub.status.idle": "2023-02-24T05:44:44.339364Z",
     "shell.execute_reply": "2023-02-24T05:44:44.337849Z"
    },
    "papermill": {
     "duration": 0.037466,
     "end_time": "2023-02-24T05:44:44.342017",
     "exception": false,
     "start_time": "2023-02-24T05:44:44.304551",
     "status": "completed"
    },
    "tags": []
   },
   "outputs": [
    {
     "data": {
      "text/html": [
       "<div>\n",
       "<style scoped>\n",
       "    .dataframe tbody tr th:only-of-type {\n",
       "        vertical-align: middle;\n",
       "    }\n",
       "\n",
       "    .dataframe tbody tr th {\n",
       "        vertical-align: top;\n",
       "    }\n",
       "\n",
       "    .dataframe thead th {\n",
       "        text-align: right;\n",
       "    }\n",
       "</style>\n",
       "<table border=\"1\" class=\"dataframe\">\n",
       "  <thead>\n",
       "    <tr style=\"text-align: right;\">\n",
       "      <th></th>\n",
       "      <th>PassengerId</th>\n",
       "      <th>Survived</th>\n",
       "      <th>Pclass</th>\n",
       "      <th>Name</th>\n",
       "      <th>Sex</th>\n",
       "      <th>Age</th>\n",
       "      <th>SibSp</th>\n",
       "      <th>Parch</th>\n",
       "      <th>Ticket</th>\n",
       "      <th>Fare</th>\n",
       "      <th>Cabin</th>\n",
       "      <th>Embarked</th>\n",
       "    </tr>\n",
       "  </thead>\n",
       "  <tbody>\n",
       "    <tr>\n",
       "      <th>33</th>\n",
       "      <td>34</td>\n",
       "      <td>0</td>\n",
       "      <td>2</td>\n",
       "      <td>Wheadon, Mr. Edward H</td>\n",
       "      <td>male</td>\n",
       "      <td>66.0</td>\n",
       "      <td>0</td>\n",
       "      <td>0</td>\n",
       "      <td>C.A. 24579</td>\n",
       "      <td>10.5000</td>\n",
       "      <td>NaN</td>\n",
       "      <td>S</td>\n",
       "    </tr>\n",
       "    <tr>\n",
       "      <th>96</th>\n",
       "      <td>97</td>\n",
       "      <td>0</td>\n",
       "      <td>1</td>\n",
       "      <td>Goldschmidt, Mr. George B</td>\n",
       "      <td>male</td>\n",
       "      <td>71.0</td>\n",
       "      <td>0</td>\n",
       "      <td>0</td>\n",
       "      <td>PC 17754</td>\n",
       "      <td>34.6542</td>\n",
       "      <td>A5</td>\n",
       "      <td>C</td>\n",
       "    </tr>\n",
       "    <tr>\n",
       "      <th>116</th>\n",
       "      <td>117</td>\n",
       "      <td>0</td>\n",
       "      <td>3</td>\n",
       "      <td>Connors, Mr. Patrick</td>\n",
       "      <td>male</td>\n",
       "      <td>70.5</td>\n",
       "      <td>0</td>\n",
       "      <td>0</td>\n",
       "      <td>370369</td>\n",
       "      <td>7.7500</td>\n",
       "      <td>NaN</td>\n",
       "      <td>Q</td>\n",
       "    </tr>\n",
       "    <tr>\n",
       "      <th>493</th>\n",
       "      <td>494</td>\n",
       "      <td>0</td>\n",
       "      <td>1</td>\n",
       "      <td>Artagaveytia, Mr. Ramon</td>\n",
       "      <td>male</td>\n",
       "      <td>71.0</td>\n",
       "      <td>0</td>\n",
       "      <td>0</td>\n",
       "      <td>PC 17609</td>\n",
       "      <td>49.5042</td>\n",
       "      <td>NaN</td>\n",
       "      <td>C</td>\n",
       "    </tr>\n",
       "    <tr>\n",
       "      <th>630</th>\n",
       "      <td>631</td>\n",
       "      <td>1</td>\n",
       "      <td>1</td>\n",
       "      <td>Barkworth, Mr. Algernon Henry Wilson</td>\n",
       "      <td>male</td>\n",
       "      <td>80.0</td>\n",
       "      <td>0</td>\n",
       "      <td>0</td>\n",
       "      <td>27042</td>\n",
       "      <td>30.0000</td>\n",
       "      <td>A23</td>\n",
       "      <td>S</td>\n",
       "    </tr>\n",
       "    <tr>\n",
       "      <th>672</th>\n",
       "      <td>673</td>\n",
       "      <td>0</td>\n",
       "      <td>2</td>\n",
       "      <td>Mitchell, Mr. Henry Michael</td>\n",
       "      <td>male</td>\n",
       "      <td>70.0</td>\n",
       "      <td>0</td>\n",
       "      <td>0</td>\n",
       "      <td>C.A. 24580</td>\n",
       "      <td>10.5000</td>\n",
       "      <td>NaN</td>\n",
       "      <td>S</td>\n",
       "    </tr>\n",
       "    <tr>\n",
       "      <th>745</th>\n",
       "      <td>746</td>\n",
       "      <td>0</td>\n",
       "      <td>1</td>\n",
       "      <td>Crosby, Capt. Edward Gifford</td>\n",
       "      <td>male</td>\n",
       "      <td>70.0</td>\n",
       "      <td>1</td>\n",
       "      <td>1</td>\n",
       "      <td>WE/P 5735</td>\n",
       "      <td>71.0000</td>\n",
       "      <td>B22</td>\n",
       "      <td>S</td>\n",
       "    </tr>\n",
       "    <tr>\n",
       "      <th>851</th>\n",
       "      <td>852</td>\n",
       "      <td>0</td>\n",
       "      <td>3</td>\n",
       "      <td>Svensson, Mr. Johan</td>\n",
       "      <td>male</td>\n",
       "      <td>74.0</td>\n",
       "      <td>0</td>\n",
       "      <td>0</td>\n",
       "      <td>347060</td>\n",
       "      <td>7.7750</td>\n",
       "      <td>NaN</td>\n",
       "      <td>S</td>\n",
       "    </tr>\n",
       "  </tbody>\n",
       "</table>\n",
       "</div>"
      ],
      "text/plain": [
       "     PassengerId  Survived  Pclass                                  Name  \\\n",
       "33            34         0       2                 Wheadon, Mr. Edward H   \n",
       "96            97         0       1             Goldschmidt, Mr. George B   \n",
       "116          117         0       3                  Connors, Mr. Patrick   \n",
       "493          494         0       1               Artagaveytia, Mr. Ramon   \n",
       "630          631         1       1  Barkworth, Mr. Algernon Henry Wilson   \n",
       "672          673         0       2           Mitchell, Mr. Henry Michael   \n",
       "745          746         0       1          Crosby, Capt. Edward Gifford   \n",
       "851          852         0       3                   Svensson, Mr. Johan   \n",
       "\n",
       "      Sex   Age  SibSp  Parch      Ticket     Fare Cabin Embarked  \n",
       "33   male  66.0      0      0  C.A. 24579  10.5000   NaN        S  \n",
       "96   male  71.0      0      0    PC 17754  34.6542    A5        C  \n",
       "116  male  70.5      0      0      370369   7.7500   NaN        Q  \n",
       "493  male  71.0      0      0    PC 17609  49.5042   NaN        C  \n",
       "630  male  80.0      0      0       27042  30.0000   A23        S  \n",
       "672  male  70.0      0      0  C.A. 24580  10.5000   NaN        S  \n",
       "745  male  70.0      1      1   WE/P 5735  71.0000   B22        S  \n",
       "851  male  74.0      0      0      347060   7.7750   NaN        S  "
      ]
     },
     "execution_count": 13,
     "metadata": {},
     "output_type": "execute_result"
    }
   ],
   "source": [
    "traindf[traindf['Age'] > 65]\n"
   ]
  },
  {
   "cell_type": "code",
   "execution_count": 14,
   "id": "183e44dd",
   "metadata": {
    "execution": {
     "iopub.execute_input": "2023-02-24T05:44:44.373392Z",
     "iopub.status.busy": "2023-02-24T05:44:44.372991Z",
     "iopub.status.idle": "2023-02-24T05:44:44.380304Z",
     "shell.execute_reply": "2023-02-24T05:44:44.379174Z"
    },
    "papermill": {
     "duration": 0.02595,
     "end_time": "2023-02-24T05:44:44.382663",
     "exception": false,
     "start_time": "2023-02-24T05:44:44.356713",
     "status": "completed"
    },
    "tags": []
   },
   "outputs": [
    {
     "data": {
      "text/plain": [
       "177"
      ]
     },
     "execution_count": 14,
     "metadata": {},
     "output_type": "execute_result"
    }
   ],
   "source": [
    "traindf['Age'].isnull().sum()"
   ]
  },
  {
   "cell_type": "code",
   "execution_count": 15,
   "id": "b528522b",
   "metadata": {
    "execution": {
     "iopub.execute_input": "2023-02-24T05:44:44.414167Z",
     "iopub.status.busy": "2023-02-24T05:44:44.413745Z",
     "iopub.status.idle": "2023-02-24T05:44:44.421208Z",
     "shell.execute_reply": "2023-02-24T05:44:44.420100Z"
    },
    "papermill": {
     "duration": 0.026339,
     "end_time": "2023-02-24T05:44:44.423712",
     "exception": false,
     "start_time": "2023-02-24T05:44:44.397373",
     "status": "completed"
    },
    "tags": []
   },
   "outputs": [
    {
     "data": {
      "text/plain": [
       "0.38910778230082704"
      ]
     },
     "execution_count": 15,
     "metadata": {},
     "output_type": "execute_result"
    }
   ],
   "source": [
    "traindf['Age'].skew()"
   ]
  },
  {
   "cell_type": "markdown",
   "id": "5658d404",
   "metadata": {
    "papermill": {
     "duration": 0.014266,
     "end_time": "2023-02-24T05:44:44.452669",
     "exception": false,
     "start_time": "2023-02-24T05:44:44.438403",
     "status": "completed"
    },
    "tags": []
   },
   "source": [
    "**Fare**\n",
    "\n",
    "**Conclusions**\n",
    "* Data is Highly (positively) Skewed\n",
    "* Fare Column contains the group fare not the individual fare (This might be an issue) \n",
    "* We meed to create another column called individual fare\n",
    "* More of the Passengers has paid Fare less then 31\n",
    "\n"
   ]
  },
  {
   "cell_type": "code",
   "execution_count": 16,
   "id": "bb8fdcaf",
   "metadata": {
    "execution": {
     "iopub.execute_input": "2023-02-24T05:44:44.484182Z",
     "iopub.status.busy": "2023-02-24T05:44:44.483461Z",
     "iopub.status.idle": "2023-02-24T05:44:44.494370Z",
     "shell.execute_reply": "2023-02-24T05:44:44.493285Z"
    },
    "papermill": {
     "duration": 0.029345,
     "end_time": "2023-02-24T05:44:44.496705",
     "exception": false,
     "start_time": "2023-02-24T05:44:44.467360",
     "status": "completed"
    },
    "tags": []
   },
   "outputs": [
    {
     "data": {
      "text/plain": [
       "count    891.000000\n",
       "mean      32.204208\n",
       "std       49.693429\n",
       "min        0.000000\n",
       "25%        7.910400\n",
       "50%       14.454200\n",
       "75%       31.000000\n",
       "max      512.329200\n",
       "Name: Fare, dtype: float64"
      ]
     },
     "execution_count": 16,
     "metadata": {},
     "output_type": "execute_result"
    }
   ],
   "source": [
    "traindf['Fare'].describe()"
   ]
  },
  {
   "cell_type": "code",
   "execution_count": 17,
   "id": "43754c0a",
   "metadata": {
    "execution": {
     "iopub.execute_input": "2023-02-24T05:44:44.528427Z",
     "iopub.status.busy": "2023-02-24T05:44:44.527749Z",
     "iopub.status.idle": "2023-02-24T05:44:44.786862Z",
     "shell.execute_reply": "2023-02-24T05:44:44.785628Z"
    },
    "papermill": {
     "duration": 0.278173,
     "end_time": "2023-02-24T05:44:44.789648",
     "exception": false,
     "start_time": "2023-02-24T05:44:44.511475",
     "status": "completed"
    },
    "tags": []
   },
   "outputs": [
    {
     "data": {
      "text/plain": [
       "(array([562., 170.,  67.,  39.,  15.,  16.,   2.,   0.,   9.,   2.,   6.,\n",
       "          0.,   0.,   0.,   0.,   0.,   0.,   0.,   0.,   3.]),\n",
       " array([  0.     ,  25.61646,  51.23292,  76.84938, 102.46584, 128.0823 ,\n",
       "        153.69876, 179.31522, 204.93168, 230.54814, 256.1646 , 281.78106,\n",
       "        307.39752, 333.01398, 358.63044, 384.2469 , 409.86336, 435.47982,\n",
       "        461.09628, 486.71274, 512.3292 ]),\n",
       " <BarContainer object of 20 artists>)"
      ]
     },
     "execution_count": 17,
     "metadata": {},
     "output_type": "execute_result"
    },
    {
     "data": {
      "image/png": "[encoded data removed]",
      "text/plain": [
       "<Figure size 640x480 with 1 Axes>"
      ]
     },
     "metadata": {},
     "output_type": "display_data"
    }
   ],
   "source": [
    "plt.hist(traindf['Fare'], 20)"
   ]
  },
  {
   "cell_type": "code",
   "execution_count": 18,
   "id": "bc50bbb3",
   "metadata": {
    "execution": {
     "iopub.execute_input": "2023-02-24T05:44:44.822670Z",
     "iopub.status.busy": "2023-02-24T05:44:44.822276Z",
     "iopub.status.idle": "2023-02-24T05:44:45.176907Z",
     "shell.execute_reply": "2023-02-24T05:44:45.175645Z"
    },
    "papermill": {
     "duration": 0.37466,
     "end_time": "2023-02-24T05:44:45.179571",
     "exception": false,
     "start_time": "2023-02-24T05:44:44.804911",
     "status": "completed"
    },
    "tags": []
   },
   "outputs": [
    {
     "name": "stderr",
     "output_type": "stream",
     "text": [
      "/opt/conda/lib/python3.7/site-packages/ipykernel_launcher.py:1: UserWarning: \n",
      "\n",
      "`distplot` is a deprecated function and will be removed in seaborn v0.14.0.\n",
      "\n",
      "Please adapt your code to use either `displot` (a figure-level function with\n",
      "similar flexibility) or `histplot` (an axes-level function for histograms).\n",
      "\n",
      "For a guide to updating your code to use the new functions, please see\n",
      "https://gist.github.com/mwaskom/de44147ed2974457ad6372750bbe5751\n",
      "\n",
      "  \"\"\"Entry point for launching an IPython kernel.\n"
     ]
    },
    {
     "data": {
      "text/plain": [
       "<AxesSubplot:xlabel='Fare', ylabel='Density'>"
      ]
     },
     "execution_count": 18,
     "metadata": {},
     "output_type": "execute_result"
    },
    {
     "data": {
      "image/png": "[encoded data removed]",
      "text/plain": [
       "<Figure size 640x480 with 1 Axes>"
      ]
     },
     "metadata": {},
     "output_type": "display_data"
    }
   ],
   "source": [
    "sns.distplot(traindf['Fare'])"
   ]
  },
  {
   "cell_type": "code",
   "execution_count": 19,
   "id": "3fb77e40",
   "metadata": {
    "execution": {
     "iopub.execute_input": "2023-02-24T05:44:45.215235Z",
     "iopub.status.busy": "2023-02-24T05:44:45.214835Z",
     "iopub.status.idle": "2023-02-24T05:44:45.463575Z",
     "shell.execute_reply": "2023-02-24T05:44:45.462414Z"
    },
    "papermill": {
     "duration": 0.269526,
     "end_time": "2023-02-24T05:44:45.466209",
     "exception": false,
     "start_time": "2023-02-24T05:44:45.196683",
     "status": "completed"
    },
    "tags": []
   },
   "outputs": [
    {
     "data": {
      "text/plain": [
       "<AxesSubplot:ylabel='Density'>"
      ]
     },
     "execution_count": 19,
     "metadata": {},
     "output_type": "execute_result"
    },
    {
     "data": {
      "image/png": "[encoded data removed]",
      "text/plain": [
       "<Figure size 640x480 with 1 Axes>"
      ]
     },
     "metadata": {},
     "output_type": "display_data"
    }
   ],
   "source": [
    "traindf['Fare'].plot(kind='kde')"
   ]
  },
  {
   "cell_type": "code",
   "execution_count": 20,
   "id": "cfb07f74",
   "metadata": {
    "execution": {
     "iopub.execute_input": "2023-02-24T05:44:45.501003Z",
     "iopub.status.busy": "2023-02-24T05:44:45.500558Z",
     "iopub.status.idle": "2023-02-24T05:44:45.509079Z",
     "shell.execute_reply": "2023-02-24T05:44:45.507865Z"
    },
    "papermill": {
     "duration": 0.02899,
     "end_time": "2023-02-24T05:44:45.511525",
     "exception": false,
     "start_time": "2023-02-24T05:44:45.482535",
     "status": "completed"
    },
    "tags": []
   },
   "outputs": [
    {
     "data": {
      "text/plain": [
       "4.787316519674893"
      ]
     },
     "execution_count": 20,
     "metadata": {},
     "output_type": "execute_result"
    }
   ],
   "source": [
    "traindf['Fare'].skew()"
   ]
  },
  {
   "cell_type": "code",
   "execution_count": 21,
   "id": "1068ebb6",
   "metadata": {
    "execution": {
     "iopub.execute_input": "2023-02-24T05:44:45.546692Z",
     "iopub.status.busy": "2023-02-24T05:44:45.546310Z",
     "iopub.status.idle": "2023-02-24T05:44:45.753528Z",
     "shell.execute_reply": "2023-02-24T05:44:45.752439Z"
    },
    "papermill": {
     "duration": 0.228088,
     "end_time": "2023-02-24T05:44:45.756269",
     "exception": false,
     "start_time": "2023-02-24T05:44:45.528181",
     "status": "completed"
    },
    "tags": []
   },
   "outputs": [
    {
     "data": {
      "text/plain": [
       "<AxesSubplot:>"
      ]
     },
     "execution_count": 21,
     "metadata": {},
     "output_type": "execute_result"
    },
    {
     "data": {
      "image/png": "[encoded data removed]",
      "text/plain": [
       "<Figure size 640x480 with 1 Axes>"
      ]
     },
     "metadata": {},
     "output_type": "display_data"
    }
   ],
   "source": [
    "traindf['Fare'].plot(kind='box')"
   ]
  },
  {
   "cell_type": "code",
   "execution_count": 22,
   "id": "15c9b33b",
   "metadata": {
    "execution": {
     "iopub.execute_input": "2023-02-24T05:44:45.792847Z",
     "iopub.status.busy": "2023-02-24T05:44:45.791619Z",
     "iopub.status.idle": "2023-02-24T05:44:45.799759Z",
     "shell.execute_reply": "2023-02-24T05:44:45.798855Z"
    },
    "papermill": {
     "duration": 0.028774,
     "end_time": "2023-02-24T05:44:45.802127",
     "exception": false,
     "start_time": "2023-02-24T05:44:45.773353",
     "status": "completed"
    },
    "tags": []
   },
   "outputs": [
    {
     "data": {
      "text/plain": [
       "0"
      ]
     },
     "execution_count": 22,
     "metadata": {},
     "output_type": "execute_result"
    }
   ],
   "source": [
    "traindf['Fare'].isnull().sum()"
   ]
  },
  {
   "cell_type": "markdown",
   "id": "c3cba33e",
   "metadata": {
    "papermill": {
     "duration": 0.017118,
     "end_time": "2023-02-24T05:44:45.836409",
     "exception": false,
     "start_time": "2023-02-24T05:44:45.819291",
     "status": "completed"
    },
    "tags": []
   },
   "source": [
    "**Survived**\n",
    "\n",
    "* 61% People were Survived & 39 % People were not Survived"
   ]
  },
  {
   "cell_type": "code",
   "execution_count": 23,
   "id": "aa2fe524",
   "metadata": {
    "execution": {
     "iopub.execute_input": "2023-02-24T05:44:45.873620Z",
     "iopub.status.busy": "2023-02-24T05:44:45.872787Z",
     "iopub.status.idle": "2023-02-24T05:44:45.882025Z",
     "shell.execute_reply": "2023-02-24T05:44:45.880886Z"
    },
    "papermill": {
     "duration": 0.031126,
     "end_time": "2023-02-24T05:44:45.884692",
     "exception": false,
     "start_time": "2023-02-24T05:44:45.853566",
     "status": "completed"
    },
    "tags": []
   },
   "outputs": [
    {
     "data": {
      "text/plain": [
       "0    549\n",
       "1    342\n",
       "Name: Survived, dtype: int64"
      ]
     },
     "execution_count": 23,
     "metadata": {},
     "output_type": "execute_result"
    }
   ],
   "source": [
    "traindf['Survived'].value_counts()"
   ]
  },
  {
   "cell_type": "code",
   "execution_count": 24,
   "id": "36e59bc3",
   "metadata": {
    "execution": {
     "iopub.execute_input": "2023-02-24T05:44:45.921808Z",
     "iopub.status.busy": "2023-02-24T05:44:45.921363Z",
     "iopub.status.idle": "2023-02-24T05:44:46.117966Z",
     "shell.execute_reply": "2023-02-24T05:44:46.116716Z"
    },
    "papermill": {
     "duration": 0.218234,
     "end_time": "2023-02-24T05:44:46.120760",
     "exception": false,
     "start_time": "2023-02-24T05:44:45.902526",
     "status": "completed"
    },
    "tags": []
   },
   "outputs": [
    {
     "data": {
      "text/plain": [
       "<AxesSubplot:>"
      ]
     },
     "execution_count": 24,
     "metadata": {},
     "output_type": "execute_result"
    },
    {
     "data": {
      "image/png": "[encoded data removed]",
      "text/plain": [
       "<Figure size 640x480 with 1 Axes>"
      ]
     },
     "metadata": {},
     "output_type": "display_data"
    }
   ],
   "source": [
    "traindf['Survived'].value_counts().plot(kind='bar')"
   ]
  },
  {
   "cell_type": "code",
   "execution_count": 25,
   "id": "f071c5af",
   "metadata": {
    "execution": {
     "iopub.execute_input": "2023-02-24T05:44:46.157875Z",
     "iopub.status.busy": "2023-02-24T05:44:46.157430Z",
     "iopub.status.idle": "2023-02-24T05:44:46.300651Z",
     "shell.execute_reply": "2023-02-24T05:44:46.299207Z"
    },
    "papermill": {
     "duration": 0.166638,
     "end_time": "2023-02-24T05:44:46.305262",
     "exception": false,
     "start_time": "2023-02-24T05:44:46.138624",
     "status": "completed"
    },
    "tags": []
   },
   "outputs": [
    {
     "data": {
      "text/plain": [
       "<AxesSubplot:ylabel='Survived'>"
      ]
     },
     "execution_count": 25,
     "metadata": {},
     "output_type": "execute_result"
    },
    {
     "data": {
      "image/png": "[encoded data removed]",
      "text/plain": [
       "<Figure size 640x480 with 1 Axes>"
      ]
     },
     "metadata": {},
     "output_type": "display_data"
    }
   ],
   "source": [
    "traindf['Survived'].value_counts().plot(kind='pie', autopct='%0.2f%%')"
   ]
  },
  {
   "cell_type": "code",
   "execution_count": 26,
   "id": "f82778e1",
   "metadata": {
    "execution": {
     "iopub.execute_input": "2023-02-24T05:44:46.377219Z",
     "iopub.status.busy": "2023-02-24T05:44:46.376118Z",
     "iopub.status.idle": "2023-02-24T05:44:46.383817Z",
     "shell.execute_reply": "2023-02-24T05:44:46.382901Z"
    },
    "papermill": {
     "duration": 0.035262,
     "end_time": "2023-02-24T05:44:46.386314",
     "exception": false,
     "start_time": "2023-02-24T05:44:46.351052",
     "status": "completed"
    },
    "tags": []
   },
   "outputs": [
    {
     "data": {
      "text/plain": [
       "0"
      ]
     },
     "execution_count": 26,
     "metadata": {},
     "output_type": "execute_result"
    }
   ],
   "source": [
    "traindf['Survived'].isnull().sum()"
   ]
  },
  {
   "cell_type": "markdown",
   "id": "2d9bc3db",
   "metadata": {
    "papermill": {
     "duration": 0.018153,
     "end_time": "2023-02-24T05:44:46.422767",
     "exception": false,
     "start_time": "2023-02-24T05:44:46.404614",
     "status": "completed"
    },
    "tags": []
   },
   "source": [
    "**Sex**\n",
    "\n",
    "* 64% People are Male & 36 % People are Female"
   ]
  },
  {
   "cell_type": "code",
   "execution_count": 27,
   "id": "853777d2",
   "metadata": {
    "execution": {
     "iopub.execute_input": "2023-02-24T05:44:46.461775Z",
     "iopub.status.busy": "2023-02-24T05:44:46.461025Z",
     "iopub.status.idle": "2023-02-24T05:44:46.469378Z",
     "shell.execute_reply": "2023-02-24T05:44:46.468151Z"
    },
    "papermill": {
     "duration": 0.031175,
     "end_time": "2023-02-24T05:44:46.471701",
     "exception": false,
     "start_time": "2023-02-24T05:44:46.440526",
     "status": "completed"
    },
    "tags": []
   },
   "outputs": [
    {
     "data": {
      "text/plain": [
       "male      577\n",
       "female    314\n",
       "Name: Sex, dtype: int64"
      ]
     },
     "execution_count": 27,
     "metadata": {},
     "output_type": "execute_result"
    }
   ],
   "source": [
    "traindf['Sex'].value_counts()"
   ]
  },
  {
   "cell_type": "code",
   "execution_count": 28,
   "id": "4f1160f1",
   "metadata": {
    "execution": {
     "iopub.execute_input": "2023-02-24T05:44:46.513593Z",
     "iopub.status.busy": "2023-02-24T05:44:46.512903Z",
     "iopub.status.idle": "2023-02-24T05:44:46.724636Z",
     "shell.execute_reply": "2023-02-24T05:44:46.723233Z"
    },
    "papermill": {
     "duration": 0.236501,
     "end_time": "2023-02-24T05:44:46.727487",
     "exception": false,
     "start_time": "2023-02-24T05:44:46.490986",
     "status": "completed"
    },
    "tags": []
   },
   "outputs": [
    {
     "data": {
      "text/plain": [
       "<AxesSubplot:>"
      ]
     },
     "execution_count": 28,
     "metadata": {},
     "output_type": "execute_result"
    },
    {
     "data": {
      "image/png": "[encoded data removed]",
      "text/plain": [
       "<Figure size 640x480 with 1 Axes>"
      ]
     },
     "metadata": {},
     "output_type": "display_data"
    }
   ],
   "source": [
    "traindf['Sex'].value_counts().plot(kind='bar')"
   ]
  },
  {
   "cell_type": "code",
   "execution_count": 29,
   "id": "38938cde",
   "metadata": {
    "execution": {
     "iopub.execute_input": "2023-02-24T05:44:46.770014Z",
     "iopub.status.busy": "2023-02-24T05:44:46.769571Z",
     "iopub.status.idle": "2023-02-24T05:44:46.901394Z",
     "shell.execute_reply": "2023-02-24T05:44:46.900023Z"
    },
    "papermill": {
     "duration": 0.158822,
     "end_time": "2023-02-24T05:44:46.905965",
     "exception": false,
     "start_time": "2023-02-24T05:44:46.747143",
     "status": "completed"
    },
    "tags": []
   },
   "outputs": [
    {
     "data": {
      "text/plain": [
       "<AxesSubplot:ylabel='Sex'>"
      ]
     },
     "execution_count": 29,
     "metadata": {},
     "output_type": "execute_result"
    },
    {
     "data": {
      "image/png": "[encoded data removed]",
      "text/plain": [
       "<Figure size 640x480 with 1 Axes>"
      ]
     },
     "metadata": {},
     "output_type": "display_data"
    }
   ],
   "source": [
    "traindf['Sex'].value_counts().plot(kind='pie', autopct='%0.2f%%')"
   ]
  },
  {
   "cell_type": "code",
   "execution_count": 30,
   "id": "30e1b6a2",
   "metadata": {
    "execution": {
     "iopub.execute_input": "2023-02-24T05:44:46.981398Z",
     "iopub.status.busy": "2023-02-24T05:44:46.980968Z",
     "iopub.status.idle": "2023-02-24T05:44:46.989175Z",
     "shell.execute_reply": "2023-02-24T05:44:46.988008Z"
    },
    "papermill": {
     "duration": 0.03684,
     "end_time": "2023-02-24T05:44:46.991566",
     "exception": false,
     "start_time": "2023-02-24T05:44:46.954726",
     "status": "completed"
    },
    "tags": []
   },
   "outputs": [
    {
     "data": {
      "text/plain": [
       "0"
      ]
     },
     "execution_count": 30,
     "metadata": {},
     "output_type": "execute_result"
    }
   ],
   "source": [
    "traindf['Sex'].isnull().sum()"
   ]
  },
  {
   "cell_type": "markdown",
   "id": "db33c0ef",
   "metadata": {
    "papermill": {
     "duration": 0.018342,
     "end_time": "2023-02-24T05:44:47.028765",
     "exception": false,
     "start_time": "2023-02-24T05:44:47.010423",
     "status": "completed"
    },
    "tags": []
   },
   "source": [
    "**Pclass**\n",
    "\n",
    "* 55% of the people travelled in Pclass 3. (may be coz of low price)\n",
    "* 24% of the people travelled in Pclass 1 & Remaining 20 % travelled in Pclass 2\n",
    "* According to Data the No of People Travelled shows that Pclass=3 > Pclass=1 > Pclass=2\n",
    "* This concludes that Pclass=3 was the cheapest & there may be very slight difference in the price of Pclass=2 & Pclass=1 due to most of the people preferred to travel in Pclass=1 instead of Pclass=2"
   ]
  },
  {
   "cell_type": "code",
   "execution_count": 31,
   "id": "f733d805",
   "metadata": {
    "execution": {
     "iopub.execute_input": "2023-02-24T05:44:47.068273Z",
     "iopub.status.busy": "2023-02-24T05:44:47.067820Z",
     "iopub.status.idle": "2023-02-24T05:44:47.076052Z",
     "shell.execute_reply": "2023-02-24T05:44:47.074849Z"
    },
    "papermill": {
     "duration": 0.03117,
     "end_time": "2023-02-24T05:44:47.078762",
     "exception": false,
     "start_time": "2023-02-24T05:44:47.047592",
     "status": "completed"
    },
    "tags": []
   },
   "outputs": [
    {
     "data": {
      "text/plain": [
       "3    491\n",
       "1    216\n",
       "2    184\n",
       "Name: Pclass, dtype: int64"
      ]
     },
     "execution_count": 31,
     "metadata": {},
     "output_type": "execute_result"
    }
   ],
   "source": [
    "traindf['Pclass'].value_counts()"
   ]
  },
  {
   "cell_type": "code",
   "execution_count": 32,
   "id": "f707d416",
   "metadata": {
    "execution": {
     "iopub.execute_input": "2023-02-24T05:44:47.118679Z",
     "iopub.status.busy": "2023-02-24T05:44:47.118241Z",
     "iopub.status.idle": "2023-02-24T05:44:47.318377Z",
     "shell.execute_reply": "2023-02-24T05:44:47.317160Z"
    },
    "papermill": {
     "duration": 0.222951,
     "end_time": "2023-02-24T05:44:47.320876",
     "exception": false,
     "start_time": "2023-02-24T05:44:47.097925",
     "status": "completed"
    },
    "tags": []
   },
   "outputs": [
    {
     "data": {
      "text/plain": [
       "<AxesSubplot:>"
      ]
     },
     "execution_count": 32,
     "metadata": {},
     "output_type": "execute_result"
    },
    {
     "data": {
      "image/png": "[encoded data removed]",
      "text/plain": [
       "<Figure size 640x480 with 1 Axes>"
      ]
     },
     "metadata": {},
     "output_type": "display_data"
    }
   ],
   "source": [
    "traindf['Pclass'].value_counts().plot(kind='bar')"
   ]
  },
  {
   "cell_type": "code",
   "execution_count": 33,
   "id": "8809a84a",
   "metadata": {
    "execution": {
     "iopub.execute_input": "2023-02-24T05:44:47.361191Z",
     "iopub.status.busy": "2023-02-24T05:44:47.360761Z",
     "iopub.status.idle": "2023-02-24T05:44:47.500833Z",
     "shell.execute_reply": "2023-02-24T05:44:47.499095Z"
    },
    "papermill": {
     "duration": 0.165096,
     "end_time": "2023-02-24T05:44:47.505323",
     "exception": false,
     "start_time": "2023-02-24T05:44:47.340227",
     "status": "completed"
    },
    "tags": []
   },
   "outputs": [
    {
     "data": {
      "text/plain": [
       "<AxesSubplot:ylabel='Pclass'>"
      ]
     },
     "execution_count": 33,
     "metadata": {},
     "output_type": "execute_result"
    },
    {
     "data": {
      "image/png": "[encoded data removed]",
      "text/plain": [
       "<Figure size 640x480 with 1 Axes>"
      ]
     },
     "metadata": {},
     "output_type": "display_data"
    }
   ],
   "source": [
    "traindf['Pclass'].value_counts().plot(kind='pie', autopct='%0.2f%%')"
   ]
  },
  {
   "cell_type": "markdown",
   "id": "32df5cf5",
   "metadata": {
    "papermill": {
     "duration": 0.02158,
     "end_time": "2023-02-24T05:44:47.578311",
     "exception": false,
     "start_time": "2023-02-24T05:44:47.556731",
     "status": "completed"
    },
    "tags": []
   },
   "source": [
    "**Embarked**\n",
    "\n",
    "* 72% Embark from Southampton\n",
    "* 16% Embark from Cherbourg\n",
    "* 8% Embark from Queenstown"
   ]
  },
  {
   "cell_type": "code",
   "execution_count": 34,
   "id": "7590af0e",
   "metadata": {
    "execution": {
     "iopub.execute_input": "2023-02-24T05:44:47.620965Z",
     "iopub.status.busy": "2023-02-24T05:44:47.619656Z",
     "iopub.status.idle": "2023-02-24T05:44:47.825927Z",
     "shell.execute_reply": "2023-02-24T05:44:47.824726Z"
    },
    "papermill": {
     "duration": 0.230075,
     "end_time": "2023-02-24T05:44:47.828621",
     "exception": false,
     "start_time": "2023-02-24T05:44:47.598546",
     "status": "completed"
    },
    "tags": []
   },
   "outputs": [
    {
     "data": {
      "text/plain": [
       "<AxesSubplot:>"
      ]
     },
     "execution_count": 34,
     "metadata": {},
     "output_type": "execute_result"
    },
    {
     "data": {
      "image/png": "[encoded data removed]",
      "text/plain": [
       "<Figure size 640x480 with 1 Axes>"
      ]
     },
     "metadata": {},
     "output_type": "display_data"
    }
   ],
   "source": [
    "traindf['Embarked'].value_counts().plot(kind='bar')\n"
   ]
  },
  {
   "cell_type": "code",
   "execution_count": 35,
   "id": "fe4a36af",
   "metadata": {
    "execution": {
     "iopub.execute_input": "2023-02-24T05:44:47.870943Z",
     "iopub.status.busy": "2023-02-24T05:44:47.870224Z",
     "iopub.status.idle": "2023-02-24T05:44:48.012479Z",
     "shell.execute_reply": "2023-02-24T05:44:48.010463Z"
    },
    "papermill": {
     "duration": 0.168219,
     "end_time": "2023-02-24T05:44:48.017339",
     "exception": false,
     "start_time": "2023-02-24T05:44:47.849120",
     "status": "completed"
    },
    "tags": []
   },
   "outputs": [
    {
     "data": {
      "text/plain": [
       "<AxesSubplot:ylabel='Embarked'>"
      ]
     },
     "execution_count": 35,
     "metadata": {},
     "output_type": "execute_result"
    },
    {
     "data": {
      "image/png": "[encoded data removed]",
      "text/plain": [
       "<Figure size 640x480 with 1 Axes>"
      ]
     },
     "metadata": {},
     "output_type": "display_data"
    }
   ],
   "source": [
    "traindf['Embarked'].value_counts().plot(kind='pie', autopct='%0.2f%%')"
   ]
  },
  {
   "cell_type": "code",
   "execution_count": 36,
   "id": "e3e7be68",
   "metadata": {
    "execution": {
     "iopub.execute_input": "2023-02-24T05:44:48.093229Z",
     "iopub.status.busy": "2023-02-24T05:44:48.092535Z",
     "iopub.status.idle": "2023-02-24T05:44:48.108502Z",
     "shell.execute_reply": "2023-02-24T05:44:48.107495Z"
    },
    "papermill": {
     "duration": 0.04077,
     "end_time": "2023-02-24T05:44:48.110882",
     "exception": false,
     "start_time": "2023-02-24T05:44:48.070112",
     "status": "completed"
    },
    "tags": []
   },
   "outputs": [
    {
     "data": {
      "text/html": [
       "<div>\n",
       "<style scoped>\n",
       "    .dataframe tbody tr th:only-of-type {\n",
       "        vertical-align: middle;\n",
       "    }\n",
       "\n",
       "    .dataframe tbody tr th {\n",
       "        vertical-align: top;\n",
       "    }\n",
       "\n",
       "    .dataframe thead th {\n",
       "        text-align: right;\n",
       "    }\n",
       "</style>\n",
       "<table border=\"1\" class=\"dataframe\">\n",
       "  <thead>\n",
       "    <tr style=\"text-align: right;\">\n",
       "      <th></th>\n",
       "      <th>PassengerId</th>\n",
       "      <th>Survived</th>\n",
       "      <th>Pclass</th>\n",
       "      <th>Name</th>\n",
       "      <th>Sex</th>\n",
       "      <th>Age</th>\n",
       "      <th>SibSp</th>\n",
       "      <th>Parch</th>\n",
       "      <th>Ticket</th>\n",
       "      <th>Fare</th>\n",
       "      <th>Cabin</th>\n",
       "      <th>Embarked</th>\n",
       "    </tr>\n",
       "  </thead>\n",
       "  <tbody>\n",
       "    <tr>\n",
       "      <th>61</th>\n",
       "      <td>62</td>\n",
       "      <td>1</td>\n",
       "      <td>1</td>\n",
       "      <td>Icard, Miss. Amelie</td>\n",
       "      <td>female</td>\n",
       "      <td>38.0</td>\n",
       "      <td>0</td>\n",
       "      <td>0</td>\n",
       "      <td>113572</td>\n",
       "      <td>80.0</td>\n",
       "      <td>B28</td>\n",
       "      <td>NaN</td>\n",
       "    </tr>\n",
       "    <tr>\n",
       "      <th>829</th>\n",
       "      <td>830</td>\n",
       "      <td>1</td>\n",
       "      <td>1</td>\n",
       "      <td>Stone, Mrs. George Nelson (Martha Evelyn)</td>\n",
       "      <td>female</td>\n",
       "      <td>62.0</td>\n",
       "      <td>0</td>\n",
       "      <td>0</td>\n",
       "      <td>113572</td>\n",
       "      <td>80.0</td>\n",
       "      <td>B28</td>\n",
       "      <td>NaN</td>\n",
       "    </tr>\n",
       "  </tbody>\n",
       "</table>\n",
       "</div>"
      ],
      "text/plain": [
       "     PassengerId  Survived  Pclass                                       Name  \\\n",
       "61            62         1       1                        Icard, Miss. Amelie   \n",
       "829          830         1       1  Stone, Mrs. George Nelson (Martha Evelyn)   \n",
       "\n",
       "        Sex   Age  SibSp  Parch  Ticket  Fare Cabin Embarked  \n",
       "61   female  38.0      0      0  113572  80.0   B28      NaN  \n",
       "829  female  62.0      0      0  113572  80.0   B28      NaN  "
      ]
     },
     "execution_count": 36,
     "metadata": {},
     "output_type": "execute_result"
    }
   ],
   "source": [
    "traindf[traindf['Embarked'].isnull()]"
   ]
  },
  {
   "cell_type": "code",
   "execution_count": 37,
   "id": "1a72a8cf",
   "metadata": {
    "execution": {
     "iopub.execute_input": "2023-02-24T05:44:48.154807Z",
     "iopub.status.busy": "2023-02-24T05:44:48.154189Z",
     "iopub.status.idle": "2023-02-24T05:44:48.164039Z",
     "shell.execute_reply": "2023-02-24T05:44:48.163144Z"
    },
    "papermill": {
     "duration": 0.034599,
     "end_time": "2023-02-24T05:44:48.166214",
     "exception": false,
     "start_time": "2023-02-24T05:44:48.131615",
     "status": "completed"
    },
    "tags": []
   },
   "outputs": [
    {
     "data": {
      "text/plain": [
       "count    891.000000\n",
       "mean       0.523008\n",
       "std        1.102743\n",
       "min        0.000000\n",
       "25%        0.000000\n",
       "50%        0.000000\n",
       "75%        1.000000\n",
       "max        8.000000\n",
       "Name: SibSp, dtype: float64"
      ]
     },
     "execution_count": 37,
     "metadata": {},
     "output_type": "execute_result"
    }
   ],
   "source": [
    "traindf['SibSp'].describe()"
   ]
  },
  {
   "cell_type": "code",
   "execution_count": 38,
   "id": "6eca5dc7",
   "metadata": {
    "execution": {
     "iopub.execute_input": "2023-02-24T05:44:48.209946Z",
     "iopub.status.busy": "2023-02-24T05:44:48.209454Z",
     "iopub.status.idle": "2023-02-24T05:44:48.218331Z",
     "shell.execute_reply": "2023-02-24T05:44:48.216830Z"
    },
    "papermill": {
     "duration": 0.033646,
     "end_time": "2023-02-24T05:44:48.220652",
     "exception": false,
     "start_time": "2023-02-24T05:44:48.187006",
     "status": "completed"
    },
    "tags": []
   },
   "outputs": [
    {
     "data": {
      "text/plain": [
       "0    608\n",
       "1    209\n",
       "2     28\n",
       "4     18\n",
       "3     16\n",
       "8      7\n",
       "5      5\n",
       "Name: SibSp, dtype: int64"
      ]
     },
     "execution_count": 38,
     "metadata": {},
     "output_type": "execute_result"
    }
   ],
   "source": [
    "traindf['SibSp'].value_counts()"
   ]
  },
  {
   "cell_type": "code",
   "execution_count": 39,
   "id": "e013d8ae",
   "metadata": {
    "execution": {
     "iopub.execute_input": "2023-02-24T05:44:48.264512Z",
     "iopub.status.busy": "2023-02-24T05:44:48.264081Z",
     "iopub.status.idle": "2023-02-24T05:44:48.443969Z",
     "shell.execute_reply": "2023-02-24T05:44:48.442343Z"
    },
    "papermill": {
     "duration": 0.207377,
     "end_time": "2023-02-24T05:44:48.448985",
     "exception": false,
     "start_time": "2023-02-24T05:44:48.241608",
     "status": "completed"
    },
    "tags": []
   },
   "outputs": [
    {
     "data": {
      "text/plain": [
       "<AxesSubplot:ylabel='SibSp'>"
      ]
     },
     "execution_count": 39,
     "metadata": {},
     "output_type": "execute_result"
    },
    {
     "data": {
      "image/png": "[encoded data removed]",
      "text/plain": [
       "<Figure size 640x480 with 1 Axes>"
      ]
     },
     "metadata": {},
     "output_type": "display_data"
    }
   ],
   "source": [
    "traindf['SibSp'].value_counts().plot(kind='pie', autopct='%0.2f%%')"
   ]
  },
  {
   "cell_type": "code",
   "execution_count": 40,
   "id": "a5d5b874",
   "metadata": {
    "execution": {
     "iopub.execute_input": "2023-02-24T05:44:48.521074Z",
     "iopub.status.busy": "2023-02-24T05:44:48.520046Z",
     "iopub.status.idle": "2023-02-24T05:44:48.530445Z",
     "shell.execute_reply": "2023-02-24T05:44:48.529268Z"
    },
    "papermill": {
     "duration": 0.035773,
     "end_time": "2023-02-24T05:44:48.532724",
     "exception": false,
     "start_time": "2023-02-24T05:44:48.496951",
     "status": "completed"
    },
    "tags": []
   },
   "outputs": [
    {
     "data": {
      "text/plain": [
       "count    891.000000\n",
       "mean       0.381594\n",
       "std        0.806057\n",
       "min        0.000000\n",
       "25%        0.000000\n",
       "50%        0.000000\n",
       "75%        0.000000\n",
       "max        6.000000\n",
       "Name: Parch, dtype: float64"
      ]
     },
     "execution_count": 40,
     "metadata": {},
     "output_type": "execute_result"
    }
   ],
   "source": [
    "traindf['Parch'].describe()"
   ]
  },
  {
   "cell_type": "code",
   "execution_count": 41,
   "id": "ee717e44",
   "metadata": {
    "execution": {
     "iopub.execute_input": "2023-02-24T05:44:48.578914Z",
     "iopub.status.busy": "2023-02-24T05:44:48.578159Z",
     "iopub.status.idle": "2023-02-24T05:44:48.586859Z",
     "shell.execute_reply": "2023-02-24T05:44:48.585485Z"
    },
    "papermill": {
     "duration": 0.034245,
     "end_time": "2023-02-24T05:44:48.589246",
     "exception": false,
     "start_time": "2023-02-24T05:44:48.555001",
     "status": "completed"
    },
    "tags": []
   },
   "outputs": [
    {
     "data": {
      "text/plain": [
       "0    678\n",
       "1    118\n",
       "2     80\n",
       "5      5\n",
       "3      5\n",
       "4      4\n",
       "6      1\n",
       "Name: Parch, dtype: int64"
      ]
     },
     "execution_count": 41,
     "metadata": {},
     "output_type": "execute_result"
    }
   ],
   "source": [
    "traindf['Parch'].value_counts()"
   ]
  },
  {
   "cell_type": "code",
   "execution_count": 42,
   "id": "09263a29",
   "metadata": {
    "execution": {
     "iopub.execute_input": "2023-02-24T05:44:48.635926Z",
     "iopub.status.busy": "2023-02-24T05:44:48.635156Z",
     "iopub.status.idle": "2023-02-24T05:44:48.954540Z",
     "shell.execute_reply": "2023-02-24T05:44:48.952920Z"
    },
    "papermill": {
     "duration": 0.347159,
     "end_time": "2023-02-24T05:44:48.958977",
     "exception": false,
     "start_time": "2023-02-24T05:44:48.611818",
     "status": "completed"
    },
    "tags": []
   },
   "outputs": [
    {
     "data": {
      "text/plain": [
       "<AxesSubplot:ylabel='Parch'>"
      ]
     },
     "execution_count": 42,
     "metadata": {},
     "output_type": "execute_result"
    },
    {
     "data": {
      "image/png": "[encoded data removed]",
      "text/plain": [
       "<Figure size 640x480 with 1 Axes>"
      ]
     },
     "metadata": {},
     "output_type": "display_data"
    }
   ],
   "source": [
    "traindf['Parch'].value_counts().plot(kind='pie', autopct='%0.2f%%')"
   ]
  },
  {
   "cell_type": "code",
   "execution_count": null,
   "id": "79e78b66",
   "metadata": {
    "papermill": {
     "duration": 0.022455,
     "end_time": "2023-02-24T05:44:49.029072",
     "exception": false,
     "start_time": "2023-02-24T05:44:49.006617",
     "status": "completed"
    },
    "tags": []
   },
   "outputs": [],
   "source": []
  },
  {
   "cell_type": "code",
   "execution_count": null,
   "id": "a872205c",
   "metadata": {
    "papermill": {
     "duration": 0.022478,
     "end_time": "2023-02-24T05:44:49.074838",
     "exception": false,
     "start_time": "2023-02-24T05:44:49.052360",
     "status": "completed"
    },
    "tags": []
   },
   "outputs": [],
   "source": []
  },
  {
   "cell_type": "code",
   "execution_count": null,
   "id": "157a8528",
   "metadata": {
    "papermill": {
     "duration": 0.022305,
     "end_time": "2023-02-24T05:44:49.120774",
     "exception": false,
     "start_time": "2023-02-24T05:44:49.098469",
     "status": "completed"
    },
    "tags": []
   },
   "outputs": [],
   "source": []
  }
 ],
 "metadata": {
  "kernelspec": {
   "display_name": "Python 3",
   "language": "python",
   "name": "python3"
  },
  "language_info": {
   "codemirror_mode": {
    "name": "ipython",
    "version": 3
   },
   "file_extension": ".py",
   "mimetype": "text/x-python",
   "name": "python",
   "nbconvert_exporter": "python",
   "pygments_lexer": "ipython3",
   "version": "3.7.12"
  },
  "papermill": {
   "default_parameters": {},
   "duration": 17.209038,
   "end_time": "2023-02-24T05:44:49.965580",
   "environment_variables": {},
   "exception": null,
   "input_path": "__notebook__.ipynb",
   "output_path": "__notebook__.ipynb",
   "parameters": {},
   "start_time": "2023-02-24T05:44:32.756542",
   "version": "2.3.4"
  }
 },
 "nbformat": 4,
 "nbformat_minor": 5
}
